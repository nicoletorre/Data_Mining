{
 "cells": [
  {
   "cell_type": "markdown",
   "id": "b2635f5b-eaab-447d-8046-7719fe556a52",
   "metadata": {},
   "source": [
    "<h1> Data Analytics Project </h1>"
   ]
  },
  {
   "cell_type": "markdown",
   "id": "a8ca3cc2-d521-46f1-aa7f-b687ecec2007",
   "metadata": {},
   "source": [
    "<h3> United Kingdom Road Accident Data Analysis </h3>\n",
    "<h3> Inclusive Years: 2019 - 2022 </h3>\n",
    "<p> Analyst: Nicole Patrice Torrero <p>"
   ]
  },
  {
   "cell_type": "code",
   "execution_count": 1,
   "id": "1a786d07-0c37-4170-a58f-8d71538bfef3",
   "metadata": {},
   "outputs": [],
   "source": [
    "import numpy as np\n",
    "import pandas as pd\n",
    "import seaborn as sns\n",
    "import matplotlib.pyplot as plt\n",
    "from scipy.stats import f_oneway\n",
    "import warnings\n",
    "warnings.filterwarnings('ignore')"
   ]
  },
  {
   "cell_type": "code",
   "execution_count": 2,
   "id": "37a50ccb-be79-4701-b5b5-a13fe2d4d801",
   "metadata": {},
   "outputs": [],
   "source": [
    "accident = pd.read_csv('datasets\\\\accident_data.csv')"
   ]
  },
  {
   "cell_type": "markdown",
   "id": "2ff3c3db-e77f-4bff-91b2-30f965d9fbc0",
   "metadata": {},
   "source": [
    "<h1> Data Preparation </h1>"
   ]
  },
  {
   "cell_type": "code",
   "execution_count": 3,
   "id": "989c9188-d450-4741-a970-5496e302dfb1",
   "metadata": {},
   "outputs": [
    {
     "data": {
      "text/plain": [
       "Index                       object\n",
       "Accident_Severity           object\n",
       "Accident Date               object\n",
       "Latitude                   float64\n",
       "Light_Conditions            object\n",
       "District Area               object\n",
       "Longitude                  float64\n",
       "Number_of_Casualties         int64\n",
       "Number_of_Vehicles           int64\n",
       "Road_Surface_Conditions     object\n",
       "Road_Type                   object\n",
       "Urban_or_Rural_Area         object\n",
       "Weather_Conditions          object\n",
       "Vehicle_Type                object\n",
       "dtype: object"
      ]
     },
     "execution_count": 3,
     "metadata": {},
     "output_type": "execute_result"
    }
   ],
   "source": [
    "accident.dtypes"
   ]
  },
  {
   "cell_type": "markdown",
   "id": "02444690-6b61-45e9-aa82-4b83f7b8a3c2",
   "metadata": {},
   "source": [
    "<h1> Converting Object to DateTime Data Type </h1>"
   ]
  },
  {
   "cell_type": "code",
   "execution_count": 4,
   "id": "4fe45fec-ea43-47e5-bf4f-aeeadc57d8ac",
   "metadata": {},
   "outputs": [],
   "source": [
    "accident['Accident Date'] = pd.to_datetime(accident['Accident Date'], dayfirst = True, errors = 'coerce')"
   ]
  },
  {
   "cell_type": "code",
   "execution_count": 5,
   "id": "0b03d98f-17c7-4aaa-a23f-c00ab9fe0f84",
   "metadata": {},
   "outputs": [
    {
     "data": {
      "text/plain": [
       "Index                              object\n",
       "Accident_Severity                  object\n",
       "Accident Date              datetime64[ns]\n",
       "Latitude                          float64\n",
       "Light_Conditions                   object\n",
       "District Area                      object\n",
       "Longitude                         float64\n",
       "Number_of_Casualties                int64\n",
       "Number_of_Vehicles                  int64\n",
       "Road_Surface_Conditions            object\n",
       "Road_Type                          object\n",
       "Urban_or_Rural_Area                object\n",
       "Weather_Conditions                 object\n",
       "Vehicle_Type                       object\n",
       "dtype: object"
      ]
     },
     "execution_count": 5,
     "metadata": {},
     "output_type": "execute_result"
    }
   ],
   "source": [
    "accident.dtypes\n",
    "# accident['Accident Date']"
   ]
  },
  {
   "cell_type": "markdown",
   "id": "fbb7f31d-e63f-4b55-8ab2-2c011652f180",
   "metadata": {},
   "source": [
    "<h1> Data Cleansing </h1>\n",
    "<h3> Filling out null Values</h3>"
   ]
  },
  {
   "cell_type": "code",
   "execution_count": 6,
   "id": "d3c8167f-e4ab-4f9c-a505-c3d9dc0cc699",
   "metadata": {},
   "outputs": [],
   "source": [
    "accident['Latitude'] = accident['Latitude'].fillna(accident['Latitude'].mode()[0])\n",
    "accident['Longitude'] = accident['Longitude'].fillna(accident['Longitude'].mode()[0])\n",
    "accident['Road_Surface_Conditions'] = accident['Road_Surface_Conditions'].fillna('unknown surface condition')  \n",
    "accident['Road_Type'] = accident['Road_Type'].fillna('unaccounted')\n",
    "accident['Weather_Conditions'] = accident['Weather_Conditions'].fillna('unaccounted')\n",
    "accident['Urban_or_Rural_Area'] = accident['Urban_or_Rural_Area'].fillna('unaccounted')"
   ]
  },
  {
   "cell_type": "markdown",
   "id": "03681bc3-1be6-4a18-a13b-c1137d6b243c",
   "metadata": {},
   "source": [
    "<h1> Categorical Data Fields </h1>"
   ]
  },
  {
   "cell_type": "code",
   "execution_count": 7,
   "id": "ffcd81bb-5369-4429-b2d2-3e26d13cfa90",
   "metadata": {},
   "outputs": [],
   "source": [
    "accident['Accident_Severity'] = accident['Accident_Severity'].astype('category')\n",
    "accident['Light_Conditions'] = accident['Light_Conditions'].astype('category')\n",
    "accident['District Area'] = accident['Accident_Severity'].astype('category')\n",
    "accident['Road_Surface_Conditions'] = accident['Road_Surface_Conditions'].astype('category')\n",
    "accident['Road_Type'] = accident['Road_Type'].astype('category')\n",
    "accident['Weather_Conditions'] = accident['Weather_Conditions'].astype('category')\n",
    "accident['Vehicle_Type'] = accident['Vehicle_Type'].astype('category')\n",
    "accident['Urban_or_Rural_Area'] = accident['Urban_or_Rural_Area'].astype('category')\n"
   ]
  },
  {
   "cell_type": "markdown",
   "id": "fe8ee428-5c35-4619-8feb-d400a082145d",
   "metadata": {},
   "source": [
    "<h1> Extracting Date information using pandas date time </h1>"
   ]
  },
  {
   "cell_type": "code",
   "execution_count": 8,
   "id": "b6245281-e7d8-4b47-bc78-31658897c831",
   "metadata": {},
   "outputs": [],
   "source": [
    "accident['Year'] = accident['Accident Date'].dt.year\n",
    "accident['Month'] = accident['Accident Date'].dt.month\n",
    "accident['Day'] = accident['Accident Date'].dt.day\n",
    "accident['Day of the Week'] = accident['Accident Date'].dt.dayofweek"
   ]
  },
  {
   "cell_type": "code",
   "execution_count": 9,
   "id": "f7ce9084-6800-4252-85fc-921eb545252e",
   "metadata": {},
   "outputs": [],
   "source": [
    "df_2019 = accident[accident['Year'] == 2019]"
   ]
  },
  {
   "cell_type": "markdown",
   "id": "d7dea5c2-fbab-4d58-9dc0-890f7c26d508",
   "metadata": {},
   "source": [
    "<h1> Univariate Analysis from year 2019 </h1>\n",
    "<h3> Question 1. How many incidents happened under light conditions? </h3>"
   ]
  },
  {
   "cell_type": "code",
   "execution_count": 10,
   "id": "aaf214be-b8f0-4bc9-a6e5-a99fdf0a5a6e",
   "metadata": {},
   "outputs": [
    {
     "data": {
      "text/plain": [
       "Light_Conditions\n",
       "Daylight                       133042\n",
       "Darkness - lights lit           35769\n",
       "Darkness - no lighting          10842\n",
       "Darkness - lighting unknown      1768\n",
       "Darkness - lights unlit           694\n",
       "Name: count, dtype: int64"
      ]
     },
     "execution_count": 10,
     "metadata": {},
     "output_type": "execute_result"
    }
   ],
   "source": [
    "df_2019['Light_Conditions'].value_counts()"
   ]
  },
  {
   "cell_type": "markdown",
   "id": "d7852940-29e3-4b3c-bb79-854ac37d728b",
   "metadata": {},
   "source": [
    "<h1> Insight 1 </h1>\n",
    "<p> Daylight constitute to 132% of the total accidents from year 2019 </p>"
   ]
  },
  {
   "cell_type": "markdown",
   "id": "113193e3-e7f8-4a8c-9b01-17feff7d9ea1",
   "metadata": {},
   "source": [
    "<h1> Question. 2 </h1>\n",
    "<h3> Which way shows a high number of slight accidents? </h3>"
   ]
  },
  {
   "cell_type": "code",
   "execution_count": 11,
   "id": "cc7acd13-c7d3-458b-8a60-fd6392d36ba2",
   "metadata": {},
   "outputs": [
    {
     "data": {
      "text/plain": [
       "Accident_Severity  Weather_Conditions  Road_Type         \n",
       "Fatal              Fine + high winds   Dual carriageway        32\n",
       "                                       One way street           5\n",
       "                                       Roundabout               5\n",
       "                                       Single carriageway     133\n",
       "                                       Slip road                0\n",
       "                                                             ... \n",
       "Slight             unaccounted         One way street         298\n",
       "                                       Roundabout            1161\n",
       "                                       Single carriageway    8755\n",
       "                                       Slip road              142\n",
       "                                       unaccounted            831\n",
       "Length: 162, dtype: int64"
      ]
     },
     "execution_count": 11,
     "metadata": {},
     "output_type": "execute_result"
    }
   ],
   "source": [
    "g = accident.groupby(['Accident_Severity', 'Weather_Conditions', 'Road_Type']).size()\n",
    "g\n"
   ]
  },
  {
   "cell_type": "markdown",
   "id": "397a465e-69cd-4e9a-b1bc-fcfebbbd494a",
   "metadata": {},
   "source": [
    "<h1> Insight 2 </h1>\n",
    "<p> One-way streets and roundabouts show a high number of slight accidents. </p>"
   ]
  },
  {
   "cell_type": "markdown",
   "id": "62b938a2",
   "metadata": {},
   "source": [
    "<h1> Question 3. </h1>\n",
    "<h3>  What are the most common accidents in urban or rural areas?</h3>\n"
   ]
  },
  {
   "cell_type": "code",
   "execution_count": 12,
   "id": "13c9a297",
   "metadata": {},
   "outputs": [
    {
     "data": {
      "text/plain": [
       "Accident_Severity  Urban_or_Rural_Area\n",
       "Fatal              Rural                    5601\n",
       "                   Unallocated                 0\n",
       "                   Urban                    3060\n",
       "                   unaccounted                 0\n",
       "Serious            Rural                   37312\n",
       "                   Unallocated                 1\n",
       "                   Urban                   50902\n",
       "                   unaccounted                 2\n",
       "Slight             Rural                  196077\n",
       "                   Unallocated                10\n",
       "                   Urban                  367701\n",
       "                   unaccounted                13\n",
       "dtype: int64"
      ]
     },
     "execution_count": 12,
     "metadata": {},
     "output_type": "execute_result"
    }
   ],
   "source": [
    "b = accident.groupby(['Accident_Severity', 'Urban_or_Rural_Area']).size()\n",
    "b"
   ]
  },
  {
   "cell_type": "markdown",
   "id": "03f871e9-0d31-416a-9f8b-f9697d7ebfa1",
   "metadata": {},
   "source": [
    "<h1> Insight 3</h1>\n",
    "<p> Fatal accidents are more common in rural areas a total of 5,601, compared to urban areas which is 3,060. </p>"
   ]
  },
  {
   "cell_type": "markdown",
   "id": "672e1417",
   "metadata": {},
   "source": [
    "<h1> Insight 4 </h1>\n",
    "<h3> Did serious accidents increase or decrease over time? </h3>"
   ]
  },
  {
   "cell_type": "code",
   "execution_count": 13,
   "id": "8b993ff5",
   "metadata": {},
   "outputs": [
    {
     "data": {
      "text/plain": [
       "Accident Year  Accident_Severity\n",
       "2019           Fatal                  5351\n",
       "               Serious               36096\n",
       "               Slight               206333\n",
       "2020           Fatal                  4398\n",
       "               Serious               33987\n",
       "               Slight               192520\n",
       "2021           Fatal                  3879\n",
       "               Serious               32311\n",
       "               Slight               185956\n",
       "2022           Fatal                  2855\n",
       "               Serious               27045\n",
       "               Slight               165837\n",
       "Name: Number_of_Casualties, dtype: int64"
      ]
     },
     "execution_count": 13,
     "metadata": {},
     "output_type": "execute_result"
    }
   ],
   "source": [
    "accident['Accident Year'] = accident['Accident Date'].dt.year\n",
    "a = accident.groupby(['Accident Year', 'Accident_Severity'])['Number_of_Casualties'].sum()\n",
    "a"
   ]
  },
  {
   "cell_type": "markdown",
   "id": "18b356f0",
   "metadata": {},
   "source": [
    "<h1> Insight 4 </h1>\n",
    "<p>Serious accidents decreased from 36,096 in 2019 to 27,045 in 2022, showing a clear reduction over the years.</p>"
   ]
  },
  {
   "cell_type": "markdown",
   "id": "28b5989f",
   "metadata": {},
   "source": [
    "<h1> Question 5. </h1>\n",
    "<h3> Do most fatal accidents happen during the day or at night, and which is more dangerous? </h3>"
   ]
  },
  {
   "cell_type": "code",
   "execution_count": 14,
   "id": "b8162257",
   "metadata": {},
   "outputs": [
    {
     "data": {
      "text/plain": [
       "Accident_Severity  Light_Conditions           \n",
       "Fatal              Darkness - lighting unknown        68\n",
       "                   Darkness - lights lit            1860\n",
       "                   Darkness - lights unlit            45\n",
       "                   Darkness - no lighting           1612\n",
       "                   Daylight                         5076\n",
       "Serious            Darkness - lighting unknown       794\n",
       "                   Darkness - lights lit           19130\n",
       "                   Darkness - lights unlit           360\n",
       "                   Darkness - no lighting           7174\n",
       "                   Daylight                        60759\n",
       "Slight             Darkness - lighting unknown      5622\n",
       "                   Darkness - lights lit          108345\n",
       "                   Darkness - lights unlit          2138\n",
       "                   Darkness - no lighting          28651\n",
       "                   Daylight                       419045\n",
       "dtype: int64"
      ]
     },
     "execution_count": 14,
     "metadata": {},
     "output_type": "execute_result"
    }
   ],
   "source": [
    "b = accident.groupby(['Accident_Severity', 'Light_Conditions']).size()\n",
    "b"
   ]
  },
  {
   "cell_type": "markdown",
   "id": "63a7e1fe",
   "metadata": {},
   "source": [
    "<h1> Insight 5 </h1>\n",
    "<p> Most fatal accidents occur during daylight, but nighttime presents a higher risk. </p>"
   ]
  },
  {
   "cell_type": "markdown",
   "id": "db995c33-dbc3-4c1f-8209-3331dbb34305",
   "metadata": {},
   "source": [
    "<h1> Question 6.</h1>\n",
    "<h3> Which district areas have the highest accident frequency for each level of accident severity? </h3>"
   ]
  },
  {
   "cell_type": "code",
   "execution_count": 15,
   "id": "6f09891f-dddd-4d2f-83a0-1a9a9815b031",
   "metadata": {},
   "outputs": [
    {
     "data": {
      "text/html": [
       "<div>\n",
       "<style scoped>\n",
       "    .dataframe tbody tr th:only-of-type {\n",
       "        vertical-align: middle;\n",
       "    }\n",
       "\n",
       "    .dataframe tbody tr th {\n",
       "        vertical-align: top;\n",
       "    }\n",
       "\n",
       "    .dataframe thead th {\n",
       "        text-align: right;\n",
       "    }\n",
       "</style>\n",
       "<table border=\"1\" class=\"dataframe\">\n",
       "  <thead>\n",
       "    <tr style=\"text-align: right;\">\n",
       "      <th></th>\n",
       "      <th>District Area</th>\n",
       "      <th>Accident_Severity</th>\n",
       "      <th>Accident_Count</th>\n",
       "    </tr>\n",
       "  </thead>\n",
       "  <tbody>\n",
       "    <tr>\n",
       "      <th>0</th>\n",
       "      <td>Fatal</td>\n",
       "      <td>Fatal</td>\n",
       "      <td>8661</td>\n",
       "    </tr>\n",
       "    <tr>\n",
       "      <th>1</th>\n",
       "      <td>Fatal</td>\n",
       "      <td>Serious</td>\n",
       "      <td>0</td>\n",
       "    </tr>\n",
       "    <tr>\n",
       "      <th>2</th>\n",
       "      <td>Fatal</td>\n",
       "      <td>Slight</td>\n",
       "      <td>0</td>\n",
       "    </tr>\n",
       "    <tr>\n",
       "      <th>3</th>\n",
       "      <td>Serious</td>\n",
       "      <td>Fatal</td>\n",
       "      <td>0</td>\n",
       "    </tr>\n",
       "    <tr>\n",
       "      <th>4</th>\n",
       "      <td>Serious</td>\n",
       "      <td>Serious</td>\n",
       "      <td>88217</td>\n",
       "    </tr>\n",
       "    <tr>\n",
       "      <th>5</th>\n",
       "      <td>Serious</td>\n",
       "      <td>Slight</td>\n",
       "      <td>0</td>\n",
       "    </tr>\n",
       "    <tr>\n",
       "      <th>6</th>\n",
       "      <td>Slight</td>\n",
       "      <td>Fatal</td>\n",
       "      <td>0</td>\n",
       "    </tr>\n",
       "    <tr>\n",
       "      <th>7</th>\n",
       "      <td>Slight</td>\n",
       "      <td>Serious</td>\n",
       "      <td>0</td>\n",
       "    </tr>\n",
       "    <tr>\n",
       "      <th>8</th>\n",
       "      <td>Slight</td>\n",
       "      <td>Slight</td>\n",
       "      <td>563801</td>\n",
       "    </tr>\n",
       "  </tbody>\n",
       "</table>\n",
       "</div>"
      ],
      "text/plain": [
       "  District Area Accident_Severity  Accident_Count\n",
       "0         Fatal             Fatal            8661\n",
       "1         Fatal           Serious               0\n",
       "2         Fatal            Slight               0\n",
       "3       Serious             Fatal               0\n",
       "4       Serious           Serious           88217\n",
       "5       Serious            Slight               0\n",
       "6        Slight             Fatal               0\n",
       "7        Slight           Serious               0\n",
       "8        Slight            Slight          563801"
      ]
     },
     "execution_count": 15,
     "metadata": {},
     "output_type": "execute_result"
    }
   ],
   "source": [
    "accidents_by_area_severity = accident.groupby(['District Area', 'Accident_Severity']).size().reset_index(name='Accident_Count')\n",
    "accidents_by_area_severity"
   ]
  },
  {
   "cell_type": "markdown",
   "id": "9fc66322",
   "metadata": {},
   "source": [
    "<h1> Insight 6 </h1>\n",
    "<p> The highest number of serious accidents occurred in a district, with a total of 88,217 cases, making it the area with the most severe incidents. </p>"
   ]
  },
  {
   "cell_type": "markdown",
   "id": "e0e2c746-3de3-4702-8f03-695db8119453",
   "metadata": {},
   "source": [
    "<h1> Insight 7 </h1>\n",
    "<h3> How many accidents occurred in each district for each level of severity? </h3>"
   ]
  },
  {
   "cell_type": "code",
   "execution_count": 16,
   "id": "f20482ff-d59a-43bf-8eb2-8bc586ef50c5",
   "metadata": {},
   "outputs": [
    {
     "data": {
      "text/html": [
       "<div>\n",
       "<style scoped>\n",
       "    .dataframe tbody tr th:only-of-type {\n",
       "        vertical-align: middle;\n",
       "    }\n",
       "\n",
       "    .dataframe tbody tr th {\n",
       "        vertical-align: top;\n",
       "    }\n",
       "\n",
       "    .dataframe thead th {\n",
       "        text-align: right;\n",
       "    }\n",
       "</style>\n",
       "<table border=\"1\" class=\"dataframe\">\n",
       "  <thead>\n",
       "    <tr style=\"text-align: right;\">\n",
       "      <th>Accident_Severity</th>\n",
       "      <th>Fatal</th>\n",
       "      <th>Serious</th>\n",
       "      <th>Slight</th>\n",
       "    </tr>\n",
       "    <tr>\n",
       "      <th>District Area</th>\n",
       "      <th></th>\n",
       "      <th></th>\n",
       "      <th></th>\n",
       "    </tr>\n",
       "  </thead>\n",
       "  <tbody>\n",
       "    <tr>\n",
       "      <th>Fatal</th>\n",
       "      <td>8661</td>\n",
       "      <td>0</td>\n",
       "      <td>0</td>\n",
       "    </tr>\n",
       "    <tr>\n",
       "      <th>Serious</th>\n",
       "      <td>0</td>\n",
       "      <td>88217</td>\n",
       "      <td>0</td>\n",
       "    </tr>\n",
       "    <tr>\n",
       "      <th>Slight</th>\n",
       "      <td>0</td>\n",
       "      <td>0</td>\n",
       "      <td>563801</td>\n",
       "    </tr>\n",
       "  </tbody>\n",
       "</table>\n",
       "</div>"
      ],
      "text/plain": [
       "Accident_Severity  Fatal  Serious  Slight\n",
       "District Area                            \n",
       "Fatal               8661        0       0\n",
       "Serious                0    88217       0\n",
       "Slight                 0        0  563801"
      ]
     },
     "execution_count": 16,
     "metadata": {},
     "output_type": "execute_result"
    }
   ],
   "source": [
    "urban_rural_accidents = accidents_by_area_severity.groupby(['District Area', 'Accident_Severity'])['Accident_Count'].sum().unstack().fillna(0)\n",
    "urban_rural_accidents"
   ]
  },
  {
   "cell_type": "markdown",
   "id": "4ccba5f0",
   "metadata": {},
   "source": [
    "<h1> Insight 7 </h1>\n",
    "<ul>\n",
    "    <li> Fatal Districts: Recorded 8,661 fatal accidents, but no serious or slight accidents. </li>\n",
    "    <li> Serious Districts: Had 88,217 serious accidents, with no fatal or slight accidents. </li>\n",
    "    <li> Slight Districts: Experienced 563,801 slight accidents, without any fatal or serious cases. </li>\n",
    "</ul>"
   ]
  },
  {
   "cell_type": "markdown",
   "id": "da218448",
   "metadata": {},
   "source": [
    "<h1> Question 8.</h1>\n",
    "<h3> How many accidents of each severity (Fatal, Serious, Slight) were reported in the district area, and what is the breakdown of these accidents? </h3>"
   ]
  },
  {
   "cell_type": "code",
   "execution_count": 17,
   "id": "eda436d5-1ba9-430d-88f1-4728ff1f280c",
   "metadata": {},
   "outputs": [
    {
     "data": {
      "text/html": [
       "<div>\n",
       "<style scoped>\n",
       "    .dataframe tbody tr th:only-of-type {\n",
       "        vertical-align: middle;\n",
       "    }\n",
       "\n",
       "    .dataframe tbody tr th {\n",
       "        vertical-align: top;\n",
       "    }\n",
       "\n",
       "    .dataframe thead th {\n",
       "        text-align: right;\n",
       "    }\n",
       "</style>\n",
       "<table border=\"1\" class=\"dataframe\">\n",
       "  <thead>\n",
       "    <tr style=\"text-align: right;\">\n",
       "      <th></th>\n",
       "      <th>District Area</th>\n",
       "      <th>Accident_Severity</th>\n",
       "      <th>Accident_Count</th>\n",
       "    </tr>\n",
       "  </thead>\n",
       "  <tbody>\n",
       "    <tr>\n",
       "      <th>0</th>\n",
       "      <td>Fatal</td>\n",
       "      <td>Fatal</td>\n",
       "      <td>8661</td>\n",
       "    </tr>\n",
       "    <tr>\n",
       "      <th>1</th>\n",
       "      <td>Fatal</td>\n",
       "      <td>Serious</td>\n",
       "      <td>0</td>\n",
       "    </tr>\n",
       "    <tr>\n",
       "      <th>2</th>\n",
       "      <td>Fatal</td>\n",
       "      <td>Slight</td>\n",
       "      <td>0</td>\n",
       "    </tr>\n",
       "    <tr>\n",
       "      <th>3</th>\n",
       "      <td>Serious</td>\n",
       "      <td>Fatal</td>\n",
       "      <td>0</td>\n",
       "    </tr>\n",
       "    <tr>\n",
       "      <th>4</th>\n",
       "      <td>Serious</td>\n",
       "      <td>Serious</td>\n",
       "      <td>88217</td>\n",
       "    </tr>\n",
       "    <tr>\n",
       "      <th>5</th>\n",
       "      <td>Serious</td>\n",
       "      <td>Slight</td>\n",
       "      <td>0</td>\n",
       "    </tr>\n",
       "    <tr>\n",
       "      <th>6</th>\n",
       "      <td>Slight</td>\n",
       "      <td>Fatal</td>\n",
       "      <td>0</td>\n",
       "    </tr>\n",
       "    <tr>\n",
       "      <th>7</th>\n",
       "      <td>Slight</td>\n",
       "      <td>Serious</td>\n",
       "      <td>0</td>\n",
       "    </tr>\n",
       "    <tr>\n",
       "      <th>8</th>\n",
       "      <td>Slight</td>\n",
       "      <td>Slight</td>\n",
       "      <td>563801</td>\n",
       "    </tr>\n",
       "  </tbody>\n",
       "</table>\n",
       "</div>"
      ],
      "text/plain": [
       "  District Area Accident_Severity  Accident_Count\n",
       "0         Fatal             Fatal            8661\n",
       "1         Fatal           Serious               0\n",
       "2         Fatal            Slight               0\n",
       "3       Serious             Fatal               0\n",
       "4       Serious           Serious           88217\n",
       "5       Serious            Slight               0\n",
       "6        Slight             Fatal               0\n",
       "7        Slight           Serious               0\n",
       "8        Slight            Slight          563801"
      ]
     },
     "execution_count": 17,
     "metadata": {},
     "output_type": "execute_result"
    }
   ],
   "source": [
    "accidents_by_area = accident.groupby(['District Area', 'Accident_Severity']).size().reset_index(name='Accident_Count')\n",
    "accidents_by_area\n"
   ]
  },
  {
   "cell_type": "markdown",
   "id": "a5d99b5b-0804-4fa3-9700-e0cca6753bd7",
   "metadata": {},
   "source": [
    "<h1> Insight 8 </h1>\n",
    "<p> Fatal accidents were significantly lower in number, with only 8,661 recorded, all of which were categorized as fatal. </p>"
   ]
  },
  {
   "cell_type": "markdown",
   "id": "a7d8a9a6",
   "metadata": {},
   "source": [
    "<h1> Question 9. </h1>\n",
    "<h3> Does fog contribute to a high number of accidents on single carriageways? </h3>"
   ]
  },
  {
   "cell_type": "code",
   "execution_count": 18,
   "id": "65745a80",
   "metadata": {},
   "outputs": [
    {
     "data": {
      "text/html": [
       "<div>\n",
       "<style scoped>\n",
       "    .dataframe tbody tr th:only-of-type {\n",
       "        vertical-align: middle;\n",
       "    }\n",
       "\n",
       "    .dataframe tbody tr th {\n",
       "        vertical-align: top;\n",
       "    }\n",
       "\n",
       "    .dataframe thead th {\n",
       "        text-align: right;\n",
       "    }\n",
       "</style>\n",
       "<table border=\"1\" class=\"dataframe\">\n",
       "  <thead>\n",
       "    <tr style=\"text-align: right;\">\n",
       "      <th>Road_Type</th>\n",
       "      <th>Dual carriageway</th>\n",
       "      <th>One way street</th>\n",
       "      <th>Roundabout</th>\n",
       "      <th>Single carriageway</th>\n",
       "      <th>Slip road</th>\n",
       "      <th>unaccounted</th>\n",
       "    </tr>\n",
       "    <tr>\n",
       "      <th>Weather_Conditions</th>\n",
       "      <th></th>\n",
       "      <th></th>\n",
       "      <th></th>\n",
       "      <th></th>\n",
       "      <th></th>\n",
       "      <th></th>\n",
       "    </tr>\n",
       "  </thead>\n",
       "  <tbody>\n",
       "    <tr>\n",
       "      <th>Fine + high winds</th>\n",
       "      <td>1519</td>\n",
       "      <td>158</td>\n",
       "      <td>540</td>\n",
       "      <td>6178</td>\n",
       "      <td>109</td>\n",
       "      <td>50</td>\n",
       "    </tr>\n",
       "    <tr>\n",
       "      <th>Fine no high winds</th>\n",
       "      <td>76916</td>\n",
       "      <td>11057</td>\n",
       "      <td>34667</td>\n",
       "      <td>389830</td>\n",
       "      <td>5520</td>\n",
       "      <td>2895</td>\n",
       "    </tr>\n",
       "    <tr>\n",
       "      <th>Fog or mist</th>\n",
       "      <td>682</td>\n",
       "      <td>29</td>\n",
       "      <td>222</td>\n",
       "      <td>2541</td>\n",
       "      <td>33</td>\n",
       "      <td>21</td>\n",
       "    </tr>\n",
       "    <tr>\n",
       "      <th>Other</th>\n",
       "      <td>2264</td>\n",
       "      <td>309</td>\n",
       "      <td>1109</td>\n",
       "      <td>13156</td>\n",
       "      <td>180</td>\n",
       "      <td>132</td>\n",
       "    </tr>\n",
       "    <tr>\n",
       "      <th>Raining + high winds</th>\n",
       "      <td>2033</td>\n",
       "      <td>153</td>\n",
       "      <td>563</td>\n",
       "      <td>6703</td>\n",
       "      <td>107</td>\n",
       "      <td>56</td>\n",
       "    </tr>\n",
       "    <tr>\n",
       "      <th>Raining no high winds</th>\n",
       "      <td>13044</td>\n",
       "      <td>1429</td>\n",
       "      <td>5347</td>\n",
       "      <td>58581</td>\n",
       "      <td>865</td>\n",
       "      <td>430</td>\n",
       "    </tr>\n",
       "    <tr>\n",
       "      <th>Snowing + high winds</th>\n",
       "      <td>185</td>\n",
       "      <td>14</td>\n",
       "      <td>30</td>\n",
       "      <td>642</td>\n",
       "      <td>10</td>\n",
       "      <td>4</td>\n",
       "    </tr>\n",
       "    <tr>\n",
       "      <th>Snowing no high winds</th>\n",
       "      <td>1020</td>\n",
       "      <td>78</td>\n",
       "      <td>290</td>\n",
       "      <td>4751</td>\n",
       "      <td>69</td>\n",
       "      <td>30</td>\n",
       "    </tr>\n",
       "    <tr>\n",
       "      <th>unaccounted</th>\n",
       "      <td>1761</td>\n",
       "      <td>332</td>\n",
       "      <td>1224</td>\n",
       "      <td>9761</td>\n",
       "      <td>148</td>\n",
       "      <td>902</td>\n",
       "    </tr>\n",
       "  </tbody>\n",
       "</table>\n",
       "</div>"
      ],
      "text/plain": [
       "Road_Type              Dual carriageway  One way street  Roundabout  \\\n",
       "Weather_Conditions                                                    \n",
       "Fine + high winds                  1519             158         540   \n",
       "Fine no high winds                76916           11057       34667   \n",
       "Fog or mist                         682              29         222   \n",
       "Other                              2264             309        1109   \n",
       "Raining + high winds               2033             153         563   \n",
       "Raining no high winds             13044            1429        5347   \n",
       "Snowing + high winds                185              14          30   \n",
       "Snowing no high winds              1020              78         290   \n",
       "unaccounted                        1761             332        1224   \n",
       "\n",
       "Road_Type              Single carriageway  Slip road  unaccounted  \n",
       "Weather_Conditions                                                 \n",
       "Fine + high winds                    6178        109           50  \n",
       "Fine no high winds                 389830       5520         2895  \n",
       "Fog or mist                          2541         33           21  \n",
       "Other                               13156        180          132  \n",
       "Raining + high winds                 6703        107           56  \n",
       "Raining no high winds               58581        865          430  \n",
       "Snowing + high winds                  642         10            4  \n",
       "Snowing no high winds                4751         69           30  \n",
       "unaccounted                          9761        148          902  "
      ]
     },
     "execution_count": 18,
     "metadata": {},
     "output_type": "execute_result"
    }
   ],
   "source": [
    "weather_road_analysis = accident.groupby(['Weather_Conditions', 'Road_Type'])['Accident_Severity'].count().unstack()\n",
    "weather_road_analysis\n"
   ]
  },
  {
   "cell_type": "markdown",
   "id": "b82d22c6",
   "metadata": {},
   "source": [
    "<h1> Insight 9 </h1>\n",
    "<p> Fog causes fewer accidents with an overall 2,541 on single carriageways </p>"
   ]
  },
  {
   "cell_type": "markdown",
   "id": "bc7207d7",
   "metadata": {},
   "source": [
    "<h1> Insight 10 </h1>\n",
    "<h3> Which day of the week has the highest number of accidents? </h3>"
   ]
  },
  {
   "cell_type": "code",
   "execution_count": 19,
   "id": "1e904553",
   "metadata": {},
   "outputs": [
    {
     "data": {
      "text/plain": [
       "Day_of_Week\n",
       "Saturday     107178\n",
       "Wednesday     99558\n",
       "Thursday      99511\n",
       "Friday        97900\n",
       "Tuesday       94550\n",
       "Sunday        89302\n",
       "Monday        72680\n",
       "dtype: int64"
      ]
     },
     "execution_count": 19,
     "metadata": {},
     "output_type": "execute_result"
    }
   ],
   "source": [
    "accident['Day_of_Week'] = pd.to_datetime(accident['Accident Date']).dt.day_name()\n",
    "d = accident.groupby('Day_of_Week').size().sort_values(ascending=False)\n",
    "d"
   ]
  },
  {
   "cell_type": "markdown",
   "id": "2655cb9e",
   "metadata": {},
   "source": [
    "<h1> Insight 10 </h1>\n",
    "<p>  Saturday has the highest number of accidents </p>"
   ]
  },
  {
   "cell_type": "markdown",
   "id": "261e6ab8",
   "metadata": {},
   "source": [
    "<h1> Insight 11 </h1>\n",
    "<h3> In which month do fatal accidents occur the most and the least? </h3>"
   ]
  },
  {
   "cell_type": "code",
   "execution_count": 20,
   "id": "04a50ecf",
   "metadata": {},
   "outputs": [
    {
     "data": {
      "text/html": [
       "<div>\n",
       "<style scoped>\n",
       "    .dataframe tbody tr th:only-of-type {\n",
       "        vertical-align: middle;\n",
       "    }\n",
       "\n",
       "    .dataframe tbody tr th {\n",
       "        vertical-align: top;\n",
       "    }\n",
       "\n",
       "    .dataframe thead th {\n",
       "        text-align: right;\n",
       "    }\n",
       "</style>\n",
       "<table border=\"1\" class=\"dataframe\">\n",
       "  <thead>\n",
       "    <tr style=\"text-align: right;\">\n",
       "      <th>Accident_Severity</th>\n",
       "      <th>Fatal</th>\n",
       "      <th>Serious</th>\n",
       "      <th>Slight</th>\n",
       "    </tr>\n",
       "    <tr>\n",
       "      <th>Month</th>\n",
       "      <th></th>\n",
       "      <th></th>\n",
       "      <th></th>\n",
       "    </tr>\n",
       "  </thead>\n",
       "  <tbody>\n",
       "    <tr>\n",
       "      <th>1</th>\n",
       "      <td>1.40</td>\n",
       "      <td>12.64</td>\n",
       "      <td>85.96</td>\n",
       "    </tr>\n",
       "    <tr>\n",
       "      <th>2</th>\n",
       "      <td>1.25</td>\n",
       "      <td>12.62</td>\n",
       "      <td>86.13</td>\n",
       "    </tr>\n",
       "    <tr>\n",
       "      <th>3</th>\n",
       "      <td>1.26</td>\n",
       "      <td>13.16</td>\n",
       "      <td>85.58</td>\n",
       "    </tr>\n",
       "    <tr>\n",
       "      <th>4</th>\n",
       "      <td>1.35</td>\n",
       "      <td>14.18</td>\n",
       "      <td>84.48</td>\n",
       "    </tr>\n",
       "    <tr>\n",
       "      <th>5</th>\n",
       "      <td>1.35</td>\n",
       "      <td>13.70</td>\n",
       "      <td>84.95</td>\n",
       "    </tr>\n",
       "    <tr>\n",
       "      <th>6</th>\n",
       "      <td>1.19</td>\n",
       "      <td>14.02</td>\n",
       "      <td>84.79</td>\n",
       "    </tr>\n",
       "    <tr>\n",
       "      <th>7</th>\n",
       "      <td>1.31</td>\n",
       "      <td>13.69</td>\n",
       "      <td>85.00</td>\n",
       "    </tr>\n",
       "    <tr>\n",
       "      <th>8</th>\n",
       "      <td>1.49</td>\n",
       "      <td>13.97</td>\n",
       "      <td>84.54</td>\n",
       "    </tr>\n",
       "    <tr>\n",
       "      <th>9</th>\n",
       "      <td>1.28</td>\n",
       "      <td>14.15</td>\n",
       "      <td>84.57</td>\n",
       "    </tr>\n",
       "    <tr>\n",
       "      <th>10</th>\n",
       "      <td>1.34</td>\n",
       "      <td>13.32</td>\n",
       "      <td>85.34</td>\n",
       "    </tr>\n",
       "    <tr>\n",
       "      <th>11</th>\n",
       "      <td>1.24</td>\n",
       "      <td>12.52</td>\n",
       "      <td>86.24</td>\n",
       "    </tr>\n",
       "    <tr>\n",
       "      <th>12</th>\n",
       "      <td>1.29</td>\n",
       "      <td>12.17</td>\n",
       "      <td>86.53</td>\n",
       "    </tr>\n",
       "  </tbody>\n",
       "</table>\n",
       "</div>"
      ],
      "text/plain": [
       "Accident_Severity  Fatal  Serious  Slight\n",
       "Month                                    \n",
       "1                   1.40    12.64   85.96\n",
       "2                   1.25    12.62   86.13\n",
       "3                   1.26    13.16   85.58\n",
       "4                   1.35    14.18   84.48\n",
       "5                   1.35    13.70   84.95\n",
       "6                   1.19    14.02   84.79\n",
       "7                   1.31    13.69   85.00\n",
       "8                   1.49    13.97   84.54\n",
       "9                   1.28    14.15   84.57\n",
       "10                  1.34    13.32   85.34\n",
       "11                  1.24    12.52   86.24\n",
       "12                  1.29    12.17   86.53"
      ]
     },
     "execution_count": 20,
     "metadata": {},
     "output_type": "execute_result"
    }
   ],
   "source": [
    "accident['Month'] = pd.to_datetime(accident['Accident Date']).dt.month\n",
    "e = accident.groupby('Month')['Accident_Severity'].value_counts(normalize=True).unstack() * 100\n",
    "np.round(e, 2)\n"
   ]
  },
  {
   "cell_type": "markdown",
   "id": "c4ec7487",
   "metadata": {},
   "source": [
    "<h1> Insight 11 </h1>\n",
    "<p> Fatal accidents happen the most in August (1.49%) and the least in June (1.19%). </p>"
   ]
  },
  {
   "cell_type": "markdown",
   "id": "0e05e7ae-b4b6-4075-aeb2-f8e899796436",
   "metadata": {},
   "source": [
    "<h1> Question 12 </h1>\n",
    "<h3> What is the most frequent accident severity? </h3>"
   ]
  },
  {
   "cell_type": "code",
   "execution_count": 21,
   "id": "d41107bf-9ee8-48ef-b103-3d442268a74f",
   "metadata": {},
   "outputs": [
    {
     "data": {
      "text/plain": [
       "Accident_Severity\n",
       "Slight     563801\n",
       "Serious     88217\n",
       "Fatal        8661\n",
       "Name: count, dtype: int64"
      ]
     },
     "execution_count": 21,
     "metadata": {},
     "output_type": "execute_result"
    }
   ],
   "source": [
    "severity = accident['Accident_Severity'].value_counts()\n",
    "severity"
   ]
  },
  {
   "cell_type": "markdown",
   "id": "5737d455-0692-495a-b710-b57160a0d7b5",
   "metadata": {},
   "source": [
    "<h1> Insight 12 </h1>\n",
    "<p> The majority of accidents are classified as slight, with a total of 563,801 occurrences. This is followed by serious accidents, which number 88,217, and fatal accidents, which are the least frequent, at 8,661. </p>"
   ]
  },
  {
   "cell_type": "code",
   "execution_count": 22,
   "id": "dcc1c4dd-c5fe-4889-bc9e-b52eb4e86f63",
   "metadata": {},
   "outputs": [
    {
     "data": {
      "text/plain": [
       "Index                              object\n",
       "Accident_Severity                category\n",
       "Accident Date              datetime64[ns]\n",
       "Latitude                          float64\n",
       "Light_Conditions                 category\n",
       "District Area                    category\n",
       "Longitude                         float64\n",
       "Number_of_Casualties                int64\n",
       "Number_of_Vehicles                  int64\n",
       "Road_Surface_Conditions          category\n",
       "Road_Type                        category\n",
       "Urban_or_Rural_Area              category\n",
       "Weather_Conditions               category\n",
       "Vehicle_Type                     category\n",
       "Year                                int32\n",
       "Month                               int32\n",
       "Day                                 int32\n",
       "Day of the Week                     int32\n",
       "Accident Year                       int32\n",
       "Day_of_Week                        object\n",
       "dtype: object"
      ]
     },
     "execution_count": 22,
     "metadata": {},
     "output_type": "execute_result"
    }
   ],
   "source": [
    "accident.dtypes"
   ]
  },
  {
   "cell_type": "markdown",
   "id": "8d50c04c-5c37-4d8a-8223-b2c8490851cc",
   "metadata": {},
   "source": [
    "<h1> Question 13. </h1>\n",
    "<h3> What is the most common light condition during accidents?</h3>"
   ]
  },
  {
   "cell_type": "code",
   "execution_count": 23,
   "id": "01895c6a-9b81-4826-9ac5-b52af4fa0499",
   "metadata": {},
   "outputs": [
    {
     "data": {
      "text/plain": [
       "Light_Conditions\n",
       "Daylight                       484880\n",
       "Darkness - lights lit          129335\n",
       "Darkness - no lighting          37437\n",
       "Darkness - lighting unknown      6484\n",
       "Darkness - lights unlit          2543\n",
       "Name: count, dtype: int64"
      ]
     },
     "execution_count": 23,
     "metadata": {},
     "output_type": "execute_result"
    }
   ],
   "source": [
    "light_conditions = accident['Light_Conditions'].value_counts()\n",
    "light_conditions"
   ]
  },
  {
   "cell_type": "markdown",
   "id": "463a1ad6-6012-4f78-a01d-57615e001e17",
   "metadata": {},
   "source": [
    "<h1> Insight 13 </h1>\n",
    "<p> The highest number of accidents happened in daylight recorded with 484,880 incidents meanwhile129,335 occured in darkness </p>"
   ]
  },
  {
   "cell_type": "markdown",
   "id": "21e4147b-3c0f-4f5c-a181-cacb790a81a8",
   "metadata": {},
   "source": [
    "<h1> Question 14. </h1>\n",
    "<h3> What is the most frequent weather condition during accidents? </h3>"
   ]
  },
  {
   "cell_type": "code",
   "execution_count": 24,
   "id": "d2a55d4c-b0c8-4431-807c-12f571d31d00",
   "metadata": {},
   "outputs": [
    {
     "data": {
      "text/plain": [
       "Weather_Conditions\n",
       "Fine no high winds       520885\n",
       "Raining no high winds     79696\n",
       "Other                     17150\n",
       "unaccounted               14128\n",
       "Raining + high winds       9615\n",
       "Fine + high winds          8554\n",
       "Snowing no high winds      6238\n",
       "Fog or mist                3528\n",
       "Snowing + high winds        885\n",
       "Name: count, dtype: int64"
      ]
     },
     "execution_count": 24,
     "metadata": {},
     "output_type": "execute_result"
    }
   ],
   "source": [
    "frequent_conditions = accident['Weather_Conditions'].value_counts()\n",
    "frequent_conditions"
   ]
  },
  {
   "cell_type": "markdown",
   "id": "73ee266d-81fb-439a-b08e-1c5ecc52f2e8",
   "metadata": {},
   "source": [
    "<h1> Insight 14 </h1>\n",
    "<p> The most common weather conditions during accidents is \"Fine no high winds\" with 520,885 incidents.</p>"
   ]
  },
  {
   "cell_type": "markdown",
   "id": "d3aff3ed-7675-40b8-8a6f-5d17595049d2",
   "metadata": {},
   "source": [
    "<h1> Question 15 </h1>\n",
    "<p> What is the average number of vehicles involved in each accident? </p>"
   ]
  },
  {
   "cell_type": "code",
   "execution_count": 25,
   "id": "3de6a743-3779-4136-aa53-c5dc27d71be5",
   "metadata": {},
   "outputs": [
    {
     "data": {
      "text/plain": [
       "1.8312554205597575"
      ]
     },
     "execution_count": 25,
     "metadata": {},
     "output_type": "execute_result"
    }
   ],
   "source": [
    "vehicle = accident['Number_of_Vehicles'].mean()\n",
    "vehicle "
   ]
  },
  {
   "cell_type": "markdown",
   "id": "ab59078f-eb3c-4c96-b798-5d1121392c2b",
   "metadata": {},
   "source": [
    "<h1> Insight 14 </h1>\n",
    "<p> The average number of vehicles involved in each accident is approximately 1.83.</p>"
   ]
  },
  {
   "cell_type": "markdown",
   "id": "d90276ff-d495-41b3-a1df-6de4941cd313",
   "metadata": {},
   "source": [
    "<h1> BiVariate </h1>\n",
    "<h3> Question 15. </h3>\n",
    "<h3> How does the weather affect the number of accidents? </h3>"
   ]
  },
  {
   "cell_type": "code",
   "execution_count": 26,
   "id": "b3cbc4af-52f1-47c6-834b-34f08cbe3c4c",
   "metadata": {},
   "outputs": [
    {
     "data": {
      "text/plain": [
       "Weather_Conditions\n",
       "Fine no high winds       520885\n",
       "Raining no high winds     79696\n",
       "Other                     17150\n",
       "unaccounted               14128\n",
       "Raining + high winds       9615\n",
       "Fine + high winds          8554\n",
       "Snowing no high winds      6238\n",
       "Fog or mist                3528\n",
       "Snowing + high winds        885\n",
       "Name: Accident Date, dtype: int64"
      ]
     },
     "execution_count": 26,
     "metadata": {},
     "output_type": "execute_result"
    }
   ],
   "source": [
    "no_of_accidents = accident.groupby('Weather_Conditions')['Accident Date'].count().sort_values(ascending=False)\n",
    "no_of_accidents"
   ]
  },
  {
   "cell_type": "markdown",
   "id": "fe85cf46-aff0-4646-8df6-5964635b311f",
   "metadata": {},
   "source": [
    "<h1> Insight 15 </h1>\n",
    "<p> Rain, snow, fog, and high winds all contribute to a higher likelihood of accidents, with rain being the second most common weather condition for accidents. </p>"
   ]
  },
  {
   "cell_type": "markdown",
   "id": "3dee3eb9-3e7f-415b-ad1d-380c04d2b50f",
   "metadata": {},
   "source": [
    "<h1> Question 16 </h1>\n",
    "<h3> How do weather conditions, road surface conditions, and accident severity interact, and what impact do they have on the likelihood and severity of accidents?</h3>"
   ]
  },
  {
   "cell_type": "code",
   "execution_count": 27,
   "id": "c414972d-6cea-46f9-982f-6cb3f0a3a05e",
   "metadata": {},
   "outputs": [
    {
     "data": {
      "text/plain": [
       "Weather_Conditions  Road_Surface_Conditions    Accident_Severity\n",
       "Fine + high winds   Dry                        Slight               4162\n",
       "                                               Serious               758\n",
       "                                               Fatal                 103\n",
       "                    Flood over 3cm. deep       Slight                 14\n",
       "                                               Fatal                   1\n",
       "                                                                    ... \n",
       "unaccounted         Wet or damp                Serious               169\n",
       "                                               Fatal                  29\n",
       "                    unknown surface condition  Slight                550\n",
       "                                               Serious                61\n",
       "                                               Fatal                   1\n",
       "Name: count, Length: 162, dtype: int64"
      ]
     },
     "execution_count": 27,
     "metadata": {},
     "output_type": "execute_result"
    }
   ],
   "source": [
    "road_severity = accident.groupby(['Weather_Conditions', 'Road_Surface_Conditions'])['Accident_Severity'].value_counts()\n",
    "road_severity"
   ]
  },
  {
   "cell_type": "markdown",
   "id": "b19ac3c0-a180-42a9-a98c-9e88088743cf",
   "metadata": {},
   "source": [
    "<h1> Insight 16 </h1>\n",
    "<p> Fine weather with high winds mostly result in slight injuries, but there are still some serious and fatal accidents</p>"
   ]
  },
  {
   "cell_type": "markdown",
   "id": "63e6c2c4-d41d-494a-98f7-9db2055dcb43",
   "metadata": {},
   "source": [
    "<h1> Question 17 </h1>\n",
    "<h3> Which road type experienced the most accidents? </h3>"
   ]
  },
  {
   "cell_type": "code",
   "execution_count": 28,
   "id": "b5518701-ec10-486f-958b-ae92d4a19f2a",
   "metadata": {},
   "outputs": [
    {
     "data": {
      "text/plain": [
       "Road_Type\n",
       "Single carriageway    492143\n",
       "Dual carriageway       99424\n",
       "Roundabout             43992\n",
       "One way street         13559\n",
       "Slip road               7041\n",
       "unaccounted             4520\n",
       "Name: count, dtype: int64"
      ]
     },
     "execution_count": 28,
     "metadata": {},
     "output_type": "execute_result"
    }
   ],
   "source": [
    "road_type_accidents = accident['Road_Type'].value_counts()\n",
    "road_type_accidents "
   ]
  },
  {
   "cell_type": "markdown",
   "id": "6691ee98-5c31-438d-9d62-6d6d09acf4a9",
   "metadata": {},
   "source": [
    "<h1> Insight 17 </h1>\n",
    "<p> The road type that experienced the most accidents is the Single carriageway, with 492,143 accidents</p>"
   ]
  },
  {
   "cell_type": "markdown",
   "id": "c2ba671e-2b6d-4714-accf-1a968ad6ed32",
   "metadata": {},
   "source": [
    "<h1> Question 18 </h1>\n",
    "<h3> What is the monthly average of accidents?</h3>"
   ]
  },
  {
   "cell_type": "code",
   "execution_count": 29,
   "id": "ada02cee-41e0-495f-af0a-ca9e98ac87d3",
   "metadata": {},
   "outputs": [
    {
     "data": {
      "text/plain": [
       "55056.583333333336"
      ]
     },
     "execution_count": 29,
     "metadata": {},
     "output_type": "execute_result"
    }
   ],
   "source": [
    "accident_per_month = accident['Accident Date'].groupby(accident['Accident Date'].dt.month).count().mean()\n",
    "accident_per_month "
   ]
  },
  {
   "cell_type": "markdown",
   "id": "f3312a8e-e28e-4f59-b46e-d76f555e29e7",
   "metadata": {},
   "source": [
    "<h1> Insight 18 </h1>\n",
    "<p> The monthly average number of accidents is approximately 55,057. This means that, on average, there are about 55,057 accidents reported each month. </p>"
   ]
  },
  {
   "cell_type": "markdown",
   "id": "f7a1a16c-dc6e-4512-ac82-b5a88990644a",
   "metadata": {},
   "source": [
    "<h1> Question 19. </h1>\n",
    "<h3> What is the average number of accidents that occurred between 2019 and 2022?</h3>"
   ]
  },
  {
   "cell_type": "code",
   "execution_count": 30,
   "id": "acf663a4-d015-4363-90ff-a124501a613f",
   "metadata": {},
   "outputs": [
    {
     "data": {
      "text/plain": [
       "326534"
      ]
     },
     "execution_count": 30,
     "metadata": {},
     "output_type": "execute_result"
    }
   ],
   "source": [
    "accidents_in_2019 = accident[accident['Accident Date'].dt.year == 2019]['Accident Date'].count()\n",
    "accidents_in_2022 = accident[accident['Accident Date'].dt.year == 2022]['Accident Date'].count()\n",
    "total_accidents = accidents_in_2019 + accidents_in_2022\n",
    "total_accidents"
   ]
  },
  {
   "cell_type": "markdown",
   "id": "6fea7422-f759-41e3-9f3e-38ab116519fa",
   "metadata": {},
   "source": [
    "<h1> Insight 19 </h1>\n",
    "<p> The average number of accidents that occurred between 2019 and 2022 is 326,534. </p>"
   ]
  },
  {
   "cell_type": "markdown",
   "id": "a741e892-282d-46b6-b3b4-8b675be9ae81",
   "metadata": {},
   "source": [
    "<h1> Question 20.</h1>\n",
    "<h3> How many casualties were reported for each vehicle type in 2019? </h3>"
   ]
  },
  {
   "cell_type": "code",
   "execution_count": 31,
   "id": "34f10408-9897-453a-8901-672a1047ad10",
   "metadata": {},
   "outputs": [
    {
     "data": {
      "text/plain": [
       "Vehicle_Type\n",
       "Agricultural vehicle                        636\n",
       "Bus or coach (17 or more pass seats)      10483\n",
       "Car                                      130304\n",
       "Data missing or out of range                  0\n",
       "Goods 7.5 tonnes mgw and over              6247\n",
       "Goods over 3.5t. and under 7.5t            2049\n",
       "Minibus (8 - 16 passenger seats)            625\n",
       "Motorcycle 125cc and under                 4313\n",
       "Motorcycle 50cc and under                  2136\n",
       "Motorcycle over 125cc and up to 500cc      2446\n",
       "Motorcycle over 500cc                      7686\n",
       "Other vehicle                              1588\n",
       "Pedal cycle                                  68\n",
       "Ridden horse                                  1\n",
       "Taxi/Private hire car                      4230\n",
       "Van / Goods 3.5 tonnes mgw or under        9303\n",
       "Name: Number_of_Casualties, dtype: int64"
      ]
     },
     "execution_count": 31,
     "metadata": {},
     "output_type": "execute_result"
    }
   ],
   "source": [
    "casualties = df_2019.groupby(['Vehicle_Type'])['Number_of_Casualties'].count()\n",
    "casualties"
   ]
  },
  {
   "cell_type": "markdown",
   "id": "c5593cb7-f16f-43ee-85f2-224b60e86f76",
   "metadata": {},
   "source": [
    "<h1>Insight 20 </h1>\n",
    "<p>Various vehicle types were involved in accidents during 2019, each contributing to a different number of casualties. Cars had the highest number of casualties, with a total of 130,304 reported. </p>"
   ]
  },
  {
   "cell_type": "markdown",
   "id": "29671d2a-1df2-482c-93f5-c13d3c392a4a",
   "metadata": {},
   "source": [
    "<h1> Question 21. </h1>\n",
    "<h3> How are weather conditions connected to light conditions in road accidents?< <3h1>"
   ]
  },
  {
   "cell_type": "code",
   "execution_count": 32,
   "id": "7928e19f-7740-4b31-9f38-f2e1dc7bead5",
   "metadata": {},
   "outputs": [
    {
     "data": {
      "text/plain": [
       "Weather_Conditions     Light_Conditions           \n",
       "Fine + high winds      Darkness - lighting unknown        59\n",
       "                       Darkness - lights lit            1852\n",
       "                       Darkness - lights unlit            51\n",
       "                       Darkness - no lighting            796\n",
       "                       Daylight                         5796\n",
       "Fine no high winds     Darkness - lighting unknown      3683\n",
       "                       Darkness - lights lit           91951\n",
       "                       Darkness - lights unlit          1700\n",
       "                       Darkness - no lighting          24867\n",
       "                       Daylight                       398684\n",
       "Fog or mist            Darkness - lighting unknown        65\n",
       "                       Darkness - lights lit             921\n",
       "                       Darkness - lights unlit            37\n",
       "                       Darkness - no lighting            862\n",
       "                       Daylight                         1643\n",
       "Other                  Darkness - lighting unknown       186\n",
       "                       Darkness - lights lit            4803\n",
       "                       Darkness - lights unlit           143\n",
       "                       Darkness - no lighting           1915\n",
       "                       Daylight                        10103\n",
       "Raining + high winds   Darkness - lighting unknown       111\n",
       "                       Darkness - lights lit            3066\n",
       "                       Darkness - lights unlit            73\n",
       "                       Darkness - no lighting           1423\n",
       "                       Daylight                         4942\n",
       "Raining no high winds  Darkness - lighting unknown       621\n",
       "                       Darkness - lights lit           22666\n",
       "                       Darkness - lights unlit           459\n",
       "                       Darkness - no lighting           6208\n",
       "                       Daylight                        49742\n",
       "Snowing + high winds   Darkness - lighting unknown        15\n",
       "                       Darkness - lights lit             241\n",
       "                       Darkness - lights unlit             5\n",
       "                       Darkness - no lighting            171\n",
       "                       Daylight                          453\n",
       "Snowing no high winds  Darkness - lighting unknown        94\n",
       "                       Darkness - lights lit            1828\n",
       "                       Darkness - lights unlit            30\n",
       "                       Darkness - no lighting            811\n",
       "                       Daylight                         3475\n",
       "unaccounted            Darkness - lighting unknown      1650\n",
       "                       Darkness - lights lit            2007\n",
       "                       Darkness - lights unlit            45\n",
       "                       Darkness - no lighting            384\n",
       "                       Daylight                        10042\n",
       "Name: Accident Date, dtype: int64"
      ]
     },
     "execution_count": 32,
     "metadata": {},
     "output_type": "execute_result"
    }
   ],
   "source": [
    "weather_conditions = accident.groupby(['Weather_Conditions', 'Light_Conditions'])['Accident Date'].count()\n",
    "weather_conditions"
   ]
  },
  {
   "cell_type": "markdown",
   "id": "deb85571-c0de-4f09-b55e-030c38ff988f",
   "metadata": {},
   "source": [
    "<h1> Insight 21 </h1>\n",
    "<p> Weather conditions like fog, snow, and rain are linked to more accidents in darkness, especially when there is no lighting or unlit lights. </p>"
   ]
  },
  {
   "cell_type": "markdown",
   "id": "8c0e3baf-af44-4144-8725-3bac6e77676b",
   "metadata": {},
   "source": [
    "<h1> Question 22. </h1>\n",
    "<h3> How do vehicle types relate to accident severity across different road types?</h3>"
   ]
  },
  {
   "cell_type": "code",
   "execution_count": 33,
   "id": "423884a1-6bde-4440-ac2d-be88f3746a9b",
   "metadata": {},
   "outputs": [
    {
     "data": {
      "text/plain": [
       "Vehicle_Type                         Accident_Severity  Road_Type         \n",
       "Agricultural vehicle                 Fatal              Dual carriageway          6\n",
       "                                                        One way street            1\n",
       "                                                        Roundabout                0\n",
       "                                                        Single carriageway       14\n",
       "                                                        Slip road                 0\n",
       "                                                                              ...  \n",
       "Van / Goods 3.5 tonnes mgw or under  Slight             One way street          623\n",
       "                                                        Roundabout             2081\n",
       "                                                        Single carriageway    21532\n",
       "                                                        Slip road               328\n",
       "                                                        unaccounted             184\n",
       "Length: 288, dtype: int64"
      ]
     },
     "execution_count": 33,
     "metadata": {},
     "output_type": "execute_result"
    }
   ],
   "source": [
    "accident_severity = accident.groupby(['Vehicle_Type', 'Accident_Severity', 'Road_Type']).size()\n",
    "accident_severity \n"
   ]
  },
  {
   "cell_type": "markdown",
   "id": "c33bcf2c-845e-4705-b208-947e8f5bf7a9",
   "metadata": {},
   "source": [
    "<h1> Insight 22 </h1>\n",
    "<p> Agricultural vehicles tend to be involved in more fatal accidents on single carriageways, suggesting these vehicles may have a higher risk of severe accidents on certain road types. </p>"
   ]
  },
  {
   "cell_type": "code",
   "execution_count": null,
   "id": "e971b4ce-4bd4-4794-bf9c-ec55babe902f",
   "metadata": {},
   "outputs": [],
   "source": []
  }
 ],
 "metadata": {
  "kernelspec": {
   "display_name": "Python 3 (ipykernel)",
   "language": "python",
   "name": "python3"
  },
  "language_info": {
   "codemirror_mode": {
    "name": "ipython",
    "version": 3
   },
   "file_extension": ".py",
   "mimetype": "text/x-python",
   "name": "python",
   "nbconvert_exporter": "python",
   "pygments_lexer": "ipython3",
   "version": "3.11.3"
  }
 },
 "nbformat": 4,
 "nbformat_minor": 5
}
